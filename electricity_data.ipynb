{
 "cells": [
  {
   "cell_type": "markdown",
   "id": "c67f2c41",
   "metadata": {},
   "source": [
    "## PI Electricity Data 2019\n",
    "Let's have a look at the data from PI's 2019 gas bills. These can be found in the [Gas Bills folder](https://app.skiff.org/folder/da3cb50e-1434-4f96-b668-a0ce10c447fb) on Skiff."
   ]
  },
  {
   "cell_type": "code",
   "execution_count": 1,
   "id": "c24046c4",
   "metadata": {},
   "outputs": [],
   "source": [
    "import numpy as np\n",
    "import matplotlib.pyplot as plt\n",
    "import pandas as pd"
   ]
  },
  {
   "cell_type": "code",
   "execution_count": 3,
   "id": "4d4b5468",
   "metadata": {},
   "outputs": [
    {
     "data": {
      "text/html": [
       "<div>\n",
       "<style scoped>\n",
       "    .dataframe tbody tr th:only-of-type {\n",
       "        vertical-align: middle;\n",
       "    }\n",
       "\n",
       "    .dataframe tbody tr th {\n",
       "        vertical-align: top;\n",
       "    }\n",
       "\n",
       "    .dataframe thead th {\n",
       "        text-align: right;\n",
       "    }\n",
       "</style>\n",
       "<table border=\"1\" class=\"dataframe\">\n",
       "  <thead>\n",
       "    <tr style=\"text-align: right;\">\n",
       "      <th></th>\n",
       "      <th>month</th>\n",
       "      <th>demand [kWh]</th>\n",
       "    </tr>\n",
       "  </thead>\n",
       "  <tbody>\n",
       "    <tr>\n",
       "      <th>0</th>\n",
       "      <td>January</td>\n",
       "      <td>220603.92</td>\n",
       "    </tr>\n",
       "    <tr>\n",
       "      <th>1</th>\n",
       "      <td>February</td>\n",
       "      <td>240936.79</td>\n",
       "    </tr>\n",
       "    <tr>\n",
       "      <th>2</th>\n",
       "      <td>March</td>\n",
       "      <td>210637.40</td>\n",
       "    </tr>\n",
       "    <tr>\n",
       "      <th>3</th>\n",
       "      <td>April</td>\n",
       "      <td>240505.69</td>\n",
       "    </tr>\n",
       "    <tr>\n",
       "      <th>4</th>\n",
       "      <td>May</td>\n",
       "      <td>211054.44</td>\n",
       "    </tr>\n",
       "    <tr>\n",
       "      <th>5</th>\n",
       "      <td>June</td>\n",
       "      <td>202932.11</td>\n",
       "    </tr>\n",
       "    <tr>\n",
       "      <th>6</th>\n",
       "      <td>July</td>\n",
       "      <td>229414.40</td>\n",
       "    </tr>\n",
       "    <tr>\n",
       "      <th>7</th>\n",
       "      <td>August</td>\n",
       "      <td>268907.11</td>\n",
       "    </tr>\n",
       "    <tr>\n",
       "      <th>8</th>\n",
       "      <td>September</td>\n",
       "      <td>253262.17</td>\n",
       "    </tr>\n",
       "    <tr>\n",
       "      <th>9</th>\n",
       "      <td>October</td>\n",
       "      <td>211446.22</td>\n",
       "    </tr>\n",
       "    <tr>\n",
       "      <th>10</th>\n",
       "      <td>November</td>\n",
       "      <td>194761.25</td>\n",
       "    </tr>\n",
       "    <tr>\n",
       "      <th>11</th>\n",
       "      <td>December</td>\n",
       "      <td>220603.92</td>\n",
       "    </tr>\n",
       "  </tbody>\n",
       "</table>\n",
       "</div>"
      ],
      "text/plain": [
       "        month  demand [kWh]\n",
       "0     January     220603.92\n",
       "1    February     240936.79\n",
       "2       March     210637.40\n",
       "3       April     240505.69\n",
       "4         May     211054.44\n",
       "5        June     202932.11\n",
       "6        July     229414.40\n",
       "7      August     268907.11\n",
       "8   September     253262.17\n",
       "9     October     211446.22\n",
       "10   November     194761.25\n",
       "11   December     220603.92"
      ]
     },
     "execution_count": 3,
     "metadata": {},
     "output_type": "execute_result"
    }
   ],
   "source": [
    "data = {\n",
    "    \"month\": [\"January\", \"February\", \"March\", \"April\", \"May\", \"June\", \"July\", \"August\", \"September\", \"October\", \"November\", \"December\"],\n",
    "    \"demand [kWh]\": [220603.92, 240936.79, 210637.40, 240505.69, 211054.44, 202932.11, 229414.40, 268907.11, 253262.17, 211446.22, 194761.25, 220603.92]\n",
    "}\n",
    "df = pd.DataFrame(data)\n",
    "df"
   ]
  },
  {
   "cell_type": "markdown",
   "id": "7265d068",
   "metadata": {},
   "source": [
    "To convert to energy, we'll just use the same conversion factor as in the report from 2009: 10.2 kWh/m³. The validity of this factor should be checked / updated."
   ]
  },
  {
   "cell_type": "code",
   "execution_count": 5,
   "id": "16d7da06",
   "metadata": {},
   "outputs": [],
   "source": [
    "# vol = df[\"volume [m³]\"].values\n",
    "# df = df.assign(energy=10.2*vol)\n",
    "# df.rename(columns = {'energy':'energy [kWh]'}, inplace = True)\n",
    "# df"
   ]
  },
  {
   "cell_type": "markdown",
   "id": "b442042d",
   "metadata": {},
   "source": [
    "Or as a nice bar chart, just to get a feeling for when we heat most, i.e. in February:"
   ]
  },
  {
   "cell_type": "code",
   "execution_count": 8,
   "id": "b5587541",
   "metadata": {},
   "outputs": [
    {
     "data": {
      "image/png": "[encoded data removed]",
      "text/plain": [
       "<Figure size 432x288 with 1 Axes>"
      ]
     },
     "metadata": {
      "needs_background": "light"
     },
     "output_type": "display_data"
    }
   ],
   "source": [
    "df.plot(x ='month', y='demand [kWh]', kind = 'bar', title = '2019 Electricity Consumption (kWh)')\n",
    "plt.show()"
   ]
  },
  {
   "cell_type": "code",
   "execution_count": 10,
   "id": "03d13849",
   "metadata": {},
   "outputs": [
    {
     "data": {
      "text/plain": [
       "2705065.42"
      ]
     },
     "execution_count": 10,
     "metadata": {},
     "output_type": "execute_result"
    }
   ],
   "source": [
    "total_energy = df['demand [kWh]'].sum()\n",
    "total_energy"
   ]
  },
  {
   "cell_type": "code",
   "execution_count": 12,
   "id": "863eaaa7",
   "metadata": {},
   "outputs": [
    {
     "data": {
      "text/plain": [
       "37.055690684931506"
      ]
     },
     "execution_count": 12,
     "metadata": {},
     "output_type": "execute_result"
    }
   ],
   "source": [
    "elec_consumption = total_energy / (365*200)\n",
    "elec_consumption"
   ]
  },
  {
   "cell_type": "markdown",
   "id": "dee74182",
   "metadata": {},
   "source": [
    "This is the same number as from the 2009 report: 34 kWh/day/person. Check: Is the conversion factor valid? How many residents did PI have in 2019? \n",
    "Discuss: Were the building improvements consumed by increase of number of people? What further improvements were made during the pandemic, i.e. after 2019?"
   ]
  },
  {
   "cell_type": "code",
   "execution_count": null,
   "id": "7ed25498",
   "metadata": {},
   "outputs": [],
   "source": []
  }
 ],
 "metadata": {
  "kernelspec": {
   "display_name": "Python 3",
   "language": "python",
   "name": "python3"
  },
  "language_info": {
   "codemirror_mode": {
    "name": "ipython",
    "version": 3
   },
   "file_extension": ".py",
   "mimetype": "text/x-python",
   "name": "python",
   "nbconvert_exporter": "python",
   "pygments_lexer": "ipython3",
   "version": "3.8.9"
  }
 },
 "nbformat": 4,
 "nbformat_minor": 5
}
