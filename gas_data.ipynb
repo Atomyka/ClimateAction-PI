{
 "cells": [
  {
   "cell_type": "markdown",
   "id": "c67f2c41",
   "metadata": {},
   "source": [
    "## PI Gas Data 2019\n",
    "Let's have a look at the data from PI's 2019 gas bills. These can be found in the [Gas Bills folder](https://app.skiff.org/folder/da3cb50e-1434-4f96-b668-a0ce10c447fb) on Skiff."
   ]
  },
  {
   "cell_type": "code",
   "execution_count": 2,
   "id": "c24046c4",
   "metadata": {},
   "outputs": [],
   "source": [
    "import numpy as np\n",
    "import matplotlib.pyplot as plt\n",
    "import pandas as pd"
   ]
  },
  {
   "cell_type": "code",
   "execution_count": 37,
   "id": "4d4b5468",
   "metadata": {},
   "outputs": [
    {
     "data": {
      "text/html": [
       "<div>\n",
       "<style scoped>\n",
       "    .dataframe tbody tr th:only-of-type {\n",
       "        vertical-align: middle;\n",
       "    }\n",
       "\n",
       "    .dataframe tbody tr th {\n",
       "        vertical-align: top;\n",
       "    }\n",
       "\n",
       "    .dataframe thead th {\n",
       "        text-align: right;\n",
       "    }\n",
       "</style>\n",
       "<table border=\"1\" class=\"dataframe\">\n",
       "  <thead>\n",
       "    <tr style=\"text-align: right;\">\n",
       "      <th></th>\n",
       "      <th>month</th>\n",
       "      <th>volume [m³]</th>\n",
       "    </tr>\n",
       "  </thead>\n",
       "  <tbody>\n",
       "    <tr>\n",
       "      <th>0</th>\n",
       "      <td>January</td>\n",
       "      <td>34925.565</td>\n",
       "    </tr>\n",
       "    <tr>\n",
       "      <th>1</th>\n",
       "      <td>February</td>\n",
       "      <td>43653.058</td>\n",
       "    </tr>\n",
       "    <tr>\n",
       "      <th>2</th>\n",
       "      <td>March</td>\n",
       "      <td>41489.116</td>\n",
       "    </tr>\n",
       "    <tr>\n",
       "      <th>3</th>\n",
       "      <td>April</td>\n",
       "      <td>23167.301</td>\n",
       "    </tr>\n",
       "    <tr>\n",
       "      <th>4</th>\n",
       "      <td>May</td>\n",
       "      <td>17464.341</td>\n",
       "    </tr>\n",
       "    <tr>\n",
       "      <th>5</th>\n",
       "      <td>June</td>\n",
       "      <td>9887.417</td>\n",
       "    </tr>\n",
       "    <tr>\n",
       "      <th>6</th>\n",
       "      <td>July</td>\n",
       "      <td>5441.041</td>\n",
       "    </tr>\n",
       "    <tr>\n",
       "      <th>7</th>\n",
       "      <td>August</td>\n",
       "      <td>5054.401</td>\n",
       "    </tr>\n",
       "    <tr>\n",
       "      <th>8</th>\n",
       "      <td>September</td>\n",
       "      <td>6756.869</td>\n",
       "    </tr>\n",
       "    <tr>\n",
       "      <th>9</th>\n",
       "      <td>October</td>\n",
       "      <td>8817.918</td>\n",
       "    </tr>\n",
       "    <tr>\n",
       "      <th>10</th>\n",
       "      <td>November</td>\n",
       "      <td>15771.228</td>\n",
       "    </tr>\n",
       "    <tr>\n",
       "      <th>11</th>\n",
       "      <td>December</td>\n",
       "      <td>31018.618</td>\n",
       "    </tr>\n",
       "  </tbody>\n",
       "</table>\n",
       "</div>"
      ],
      "text/plain": [
       "        month  volume [m³]\n",
       "0     January    34925.565\n",
       "1    February    43653.058\n",
       "2       March    41489.116\n",
       "3       April    23167.301\n",
       "4         May    17464.341\n",
       "5        June     9887.417\n",
       "6        July     5441.041\n",
       "7      August     5054.401\n",
       "8   September     6756.869\n",
       "9     October     8817.918\n",
       "10   November    15771.228\n",
       "11   December    31018.618"
      ]
     },
     "execution_count": 37,
     "metadata": {},
     "output_type": "execute_result"
    }
   ],
   "source": [
    "data = {\n",
    "    \"month\": [\"January\", \"February\", \"March\", \"April\", \"May\", \"June\", \"July\", \"August\", \"September\", \"October\", \"November\", \"December\"],\n",
    "    \"volume [m³]\": [34925.565, 43653.058, 41489.116, 23167.301, 17464.341, 9887.417, 5441.041, 5054.401, 6756.869, 8817.918, 15771.228, 31018.618]\n",
    "}\n",
    "df = pd.DataFrame(data)\n",
    "df"
   ]
  },
  {
   "cell_type": "markdown",
   "id": "de789193",
   "metadata": {},
   "source": [
    "To convert to energy, we'll just use the same conversion factor as in the report from 2009: 10.2 kWh/m³. The validity of this factor should be checked / updated."
   ]
  },
  {
   "cell_type": "code",
   "execution_count": 38,
   "id": "1d363fc9",
   "metadata": {},
   "outputs": [
    {
     "data": {
      "text/html": [
       "<div>\n",
       "<style scoped>\n",
       "    .dataframe tbody tr th:only-of-type {\n",
       "        vertical-align: middle;\n",
       "    }\n",
       "\n",
       "    .dataframe tbody tr th {\n",
       "        vertical-align: top;\n",
       "    }\n",
       "\n",
       "    .dataframe thead th {\n",
       "        text-align: right;\n",
       "    }\n",
       "</style>\n",
       "<table border=\"1\" class=\"dataframe\">\n",
       "  <thead>\n",
       "    <tr style=\"text-align: right;\">\n",
       "      <th></th>\n",
       "      <th>month</th>\n",
       "      <th>volume [m³]</th>\n",
       "      <th>energy [kWh]</th>\n",
       "    </tr>\n",
       "  </thead>\n",
       "  <tbody>\n",
       "    <tr>\n",
       "      <th>0</th>\n",
       "      <td>January</td>\n",
       "      <td>34925.565</td>\n",
       "      <td>356240.7630</td>\n",
       "    </tr>\n",
       "    <tr>\n",
       "      <th>1</th>\n",
       "      <td>February</td>\n",
       "      <td>43653.058</td>\n",
       "      <td>445261.1916</td>\n",
       "    </tr>\n",
       "    <tr>\n",
       "      <th>2</th>\n",
       "      <td>March</td>\n",
       "      <td>41489.116</td>\n",
       "      <td>423188.9832</td>\n",
       "    </tr>\n",
       "    <tr>\n",
       "      <th>3</th>\n",
       "      <td>April</td>\n",
       "      <td>23167.301</td>\n",
       "      <td>236306.4702</td>\n",
       "    </tr>\n",
       "    <tr>\n",
       "      <th>4</th>\n",
       "      <td>May</td>\n",
       "      <td>17464.341</td>\n",
       "      <td>178136.2782</td>\n",
       "    </tr>\n",
       "    <tr>\n",
       "      <th>5</th>\n",
       "      <td>June</td>\n",
       "      <td>9887.417</td>\n",
       "      <td>100851.6534</td>\n",
       "    </tr>\n",
       "    <tr>\n",
       "      <th>6</th>\n",
       "      <td>July</td>\n",
       "      <td>5441.041</td>\n",
       "      <td>55498.6182</td>\n",
       "    </tr>\n",
       "    <tr>\n",
       "      <th>7</th>\n",
       "      <td>August</td>\n",
       "      <td>5054.401</td>\n",
       "      <td>51554.8902</td>\n",
       "    </tr>\n",
       "    <tr>\n",
       "      <th>8</th>\n",
       "      <td>September</td>\n",
       "      <td>6756.869</td>\n",
       "      <td>68920.0638</td>\n",
       "    </tr>\n",
       "    <tr>\n",
       "      <th>9</th>\n",
       "      <td>October</td>\n",
       "      <td>8817.918</td>\n",
       "      <td>89942.7636</td>\n",
       "    </tr>\n",
       "    <tr>\n",
       "      <th>10</th>\n",
       "      <td>November</td>\n",
       "      <td>15771.228</td>\n",
       "      <td>160866.5256</td>\n",
       "    </tr>\n",
       "    <tr>\n",
       "      <th>11</th>\n",
       "      <td>December</td>\n",
       "      <td>31018.618</td>\n",
       "      <td>316389.9036</td>\n",
       "    </tr>\n",
       "  </tbody>\n",
       "</table>\n",
       "</div>"
      ],
      "text/plain": [
       "        month  volume [m³]  energy [kWh]\n",
       "0     January    34925.565   356240.7630\n",
       "1    February    43653.058   445261.1916\n",
       "2       March    41489.116   423188.9832\n",
       "3       April    23167.301   236306.4702\n",
       "4         May    17464.341   178136.2782\n",
       "5        June     9887.417   100851.6534\n",
       "6        July     5441.041    55498.6182\n",
       "7      August     5054.401    51554.8902\n",
       "8   September     6756.869    68920.0638\n",
       "9     October     8817.918    89942.7636\n",
       "10   November    15771.228   160866.5256\n",
       "11   December    31018.618   316389.9036"
      ]
     },
     "execution_count": 38,
     "metadata": {},
     "output_type": "execute_result"
    }
   ],
   "source": [
    "vol = df[\"volume [m³]\"].values\n",
    "df = df.assign(energy=10.2*vol)\n",
    "df.rename(columns = {'energy':'energy [kWh]'}, inplace =True)\n",
    "df"
   ]
  },
  {
   "cell_type": "markdown",
   "id": "9a42c068",
   "metadata": {},
   "source": [
    "Or as a nice bar chart, just to get a feeling for when we heat most, i.e. in February:"
   ]
  },
  {
   "cell_type": "code",
   "execution_count": 39,
   "id": "2cc9aa17",
   "metadata": {},
   "outputs": [
    {
     "data": {
      "image/png": "[encoded data removed]",
      "text/plain": [
       "<Figure size 432x288 with 1 Axes>"
      ]
     },
     "metadata": {
      "needs_background": "light"
     },
     "output_type": "display_data"
    }
   ],
   "source": [
    "df.plot(x ='month', y='energy [kWh]', kind = 'bar', title = '2019 Natural Gas Consumption (kWh)')\n",
    "plt.show()"
   ]
  },
  {
   "cell_type": "markdown",
   "id": "3ae03fa1",
   "metadata": {},
   "source": [
    "For comparison, here is the bar chart from the 2009 report:\n",
    "![image.png](attachment:image.png)"
   ]
  },
  {
   "cell_type": "code",
   "execution_count": 29,
   "id": "045484c5",
   "metadata": {},
   "outputs": [
    {
     "data": {
      "text/plain": [
       "2483158.1045999993"
      ]
     },
     "execution_count": 29,
     "metadata": {},
     "output_type": "execute_result"
    }
   ],
   "source": [
    "total_energy = df['energy [kWh]'].sum()\n",
    "total_energy"
   ]
  },
  {
   "cell_type": "markdown",
   "id": "3710c8aa",
   "metadata": {},
   "source": [
    "The numbers in the 2009 report are given in terms of kWh/day/person, counting only PI residents. (Please correct this, Rob (Spekkens), if mistaken!). Let's make the rough estimate of 200 PI residents. This gives: "
   ]
  },
  {
   "cell_type": "code",
   "execution_count": 31,
   "id": "69560618",
   "metadata": {},
   "outputs": [
    {
     "data": {
      "text/plain": [
       "34.015864446575335"
      ]
     },
     "execution_count": 31,
     "metadata": {},
     "output_type": "execute_result"
    }
   ],
   "source": [
    "gas_consumption = total_energy / (365*200)\n",
    "gas_consumption"
   ]
  },
  {
   "cell_type": "markdown",
   "id": "33e42fba",
   "metadata": {},
   "source": [
    "This is the same number as from the 2009 report: 34 kWh/day/person. Check: Is the conversion factor valid? How many residents did PI have in 2019? \n",
    "Discuss: Were the building improvements consumed by increase of number of people? What further improvements were made during the pandemic, i.e. after 2019?"
   ]
  },
  {
   "cell_type": "code",
   "execution_count": null,
   "id": "ee8be8b4",
   "metadata": {},
   "outputs": [],
   "source": []
  }
 ],
 "metadata": {
  "kernelspec": {
   "display_name": "Python 3 (ipykernel)",
   "language": "python",
   "name": "python3"
  },
  "language_info": {
   "codemirror_mode": {
    "name": "ipython",
    "version": 3
   },
   "file_extension": ".py",
   "mimetype": "text/x-python",
   "name": "python",
   "nbconvert_exporter": "python",
   "pygments_lexer": "ipython3",
   "version": "3.10.1"
  }
 },
 "nbformat": 4,
 "nbformat_minor": 5
}
